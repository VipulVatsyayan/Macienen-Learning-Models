{
 "cells": [
  {
   "cell_type": "code",
   "execution_count": 3,
   "metadata": {},
   "outputs": [],
   "source": [
    "import pandas as pd\n",
    "import numpy as np\n",
    "import seaborn as sns"
   ]
  },
  {
   "cell_type": "code",
   "execution_count": 4,
   "metadata": {},
   "outputs": [
    {
     "data": {
      "text/plain": [
       "(891, 12)"
      ]
     },
     "execution_count": 4,
     "metadata": {},
     "output_type": "execute_result"
    }
   ],
   "source": [
    "df = pd.read_csv('C:/Users/vatsy/Desktop/Python/Titanic/train.csv')\n",
    "df.shape\n",
    "\n"
   ]
  },
  {
   "cell_type": "code",
   "execution_count": 5,
   "metadata": {},
   "outputs": [
    {
     "data": {
      "text/plain": [
       "Index(['Survived', 'Pclass', 'Sex', 'Age', 'SibSp', 'Parch', 'Fare',\n",
       "       'Embarked'],\n",
       "      dtype='object')"
      ]
     },
     "execution_count": 5,
     "metadata": {},
     "output_type": "execute_result"
    }
   ],
   "source": [
    "df.drop(['PassengerId', 'Name', 'Ticket', 'Cabin'], axis = 1, inplace = True)\n",
    "df.columns"
   ]
  },
  {
   "cell_type": "code",
   "execution_count": 6,
   "metadata": {},
   "outputs": [
    {
     "data": {
      "text/plain": [
       "Survived      0\n",
       "Pclass        0\n",
       "Sex           0\n",
       "Age         177\n",
       "SibSp         0\n",
       "Parch         0\n",
       "Fare          0\n",
       "Embarked      2\n",
       "dtype: int64"
      ]
     },
     "execution_count": 6,
     "metadata": {},
     "output_type": "execute_result"
    }
   ],
   "source": [
    "df.isna().sum()"
   ]
  },
  {
   "cell_type": "code",
   "execution_count": 7,
   "metadata": {},
   "outputs": [],
   "source": [
    "df['Age'].fillna(df['Age'].mean(),inplace = True)\n"
   ]
  },
  {
   "cell_type": "code",
   "execution_count": 8,
   "metadata": {},
   "outputs": [
    {
     "data": {
      "text/plain": [
       "S    644\n",
       "C    168\n",
       "Q     77\n",
       "Name: Embarked, dtype: int64"
      ]
     },
     "execution_count": 8,
     "metadata": {},
     "output_type": "execute_result"
    }
   ],
   "source": [
    "df['Embarked'].value_counts()"
   ]
  },
  {
   "cell_type": "code",
   "execution_count": 9,
   "metadata": {},
   "outputs": [],
   "source": [
    "df['Embarked'].fillna('S', inplace = True)"
   ]
  },
  {
   "cell_type": "code",
   "execution_count": 10,
   "metadata": {},
   "outputs": [
    {
     "data": {
      "text/plain": [
       "0"
      ]
     },
     "execution_count": 10,
     "metadata": {},
     "output_type": "execute_result"
    }
   ],
   "source": [
    "df['Embarked'].isna().sum()"
   ]
  },
  {
   "cell_type": "code",
   "execution_count": 11,
   "metadata": {},
   "outputs": [
    {
     "data": {
      "text/plain": [
       "0    678\n",
       "1    118\n",
       "2     80\n",
       "5      5\n",
       "3      5\n",
       "4      4\n",
       "6      1\n",
       "Name: Parch, dtype: int64"
      ]
     },
     "execution_count": 11,
     "metadata": {},
     "output_type": "execute_result"
    }
   ],
   "source": [
    "df['Parch'].value_counts()  "
   ]
  },
  {
   "cell_type": "code",
   "execution_count": 12,
   "metadata": {},
   "outputs": [
    {
     "data": {
      "text/plain": [
       "Parch  Survived\n",
       "0      0           445\n",
       "       1           233\n",
       "1      1            65\n",
       "       0            53\n",
       "2      0            40\n",
       "       1            40\n",
       "3      1             3\n",
       "       0             2\n",
       "4      0             4\n",
       "5      0             4\n",
       "       1             1\n",
       "6      0             1\n",
       "Name: Survived, dtype: int64"
      ]
     },
     "execution_count": 12,
     "metadata": {},
     "output_type": "execute_result"
    }
   ],
   "source": [
    "df.groupby(['Parch'])['Survived'].value_counts()"
   ]
  },
  {
   "cell_type": "code",
   "execution_count": 13,
   "metadata": {},
   "outputs": [],
   "source": [
    "dummy= pd.get_dummies(df[['Sex','Embarked']])\n",
    "\n"
   ]
  },
  {
   "cell_type": "code",
   "execution_count": 14,
   "metadata": {},
   "outputs": [
    {
     "data": {
      "text/html": [
       "<div>\n",
       "<style scoped>\n",
       "    .dataframe tbody tr th:only-of-type {\n",
       "        vertical-align: middle;\n",
       "    }\n",
       "\n",
       "    .dataframe tbody tr th {\n",
       "        vertical-align: top;\n",
       "    }\n",
       "\n",
       "    .dataframe thead th {\n",
       "        text-align: right;\n",
       "    }\n",
       "</style>\n",
       "<table border=\"1\" class=\"dataframe\">\n",
       "  <thead>\n",
       "    <tr style=\"text-align: right;\">\n",
       "      <th></th>\n",
       "      <th>Sex_female</th>\n",
       "      <th>Sex_male</th>\n",
       "      <th>Embarked_C</th>\n",
       "      <th>Embarked_Q</th>\n",
       "      <th>Embarked_S</th>\n",
       "    </tr>\n",
       "  </thead>\n",
       "  <tbody>\n",
       "    <tr>\n",
       "      <th>0</th>\n",
       "      <td>0</td>\n",
       "      <td>1</td>\n",
       "      <td>0</td>\n",
       "      <td>0</td>\n",
       "      <td>1</td>\n",
       "    </tr>\n",
       "    <tr>\n",
       "      <th>1</th>\n",
       "      <td>1</td>\n",
       "      <td>0</td>\n",
       "      <td>1</td>\n",
       "      <td>0</td>\n",
       "      <td>0</td>\n",
       "    </tr>\n",
       "    <tr>\n",
       "      <th>2</th>\n",
       "      <td>1</td>\n",
       "      <td>0</td>\n",
       "      <td>0</td>\n",
       "      <td>0</td>\n",
       "      <td>1</td>\n",
       "    </tr>\n",
       "    <tr>\n",
       "      <th>3</th>\n",
       "      <td>1</td>\n",
       "      <td>0</td>\n",
       "      <td>0</td>\n",
       "      <td>0</td>\n",
       "      <td>1</td>\n",
       "    </tr>\n",
       "    <tr>\n",
       "      <th>4</th>\n",
       "      <td>0</td>\n",
       "      <td>1</td>\n",
       "      <td>0</td>\n",
       "      <td>0</td>\n",
       "      <td>1</td>\n",
       "    </tr>\n",
       "  </tbody>\n",
       "</table>\n",
       "</div>"
      ],
      "text/plain": [
       "   Sex_female  Sex_male  Embarked_C  Embarked_Q  Embarked_S\n",
       "0           0         1           0           0           1\n",
       "1           1         0           1           0           0\n",
       "2           1         0           0           0           1\n",
       "3           1         0           0           0           1\n",
       "4           0         1           0           0           1"
      ]
     },
     "execution_count": 14,
     "metadata": {},
     "output_type": "execute_result"
    }
   ],
   "source": [
    "dummy.head()"
   ]
  },
  {
   "cell_type": "code",
   "execution_count": 15,
   "metadata": {},
   "outputs": [],
   "source": [
    "dummy.drop(['Sex_female', 'Embarked_S'], axis = 1, inplace = True)"
   ]
  },
  {
   "cell_type": "code",
   "execution_count": 16,
   "metadata": {},
   "outputs": [
    {
     "data": {
      "text/html": [
       "<div>\n",
       "<style scoped>\n",
       "    .dataframe tbody tr th:only-of-type {\n",
       "        vertical-align: middle;\n",
       "    }\n",
       "\n",
       "    .dataframe tbody tr th {\n",
       "        vertical-align: top;\n",
       "    }\n",
       "\n",
       "    .dataframe thead th {\n",
       "        text-align: right;\n",
       "    }\n",
       "</style>\n",
       "<table border=\"1\" class=\"dataframe\">\n",
       "  <thead>\n",
       "    <tr style=\"text-align: right;\">\n",
       "      <th></th>\n",
       "      <th>Sex_male</th>\n",
       "      <th>Embarked_C</th>\n",
       "      <th>Embarked_Q</th>\n",
       "    </tr>\n",
       "  </thead>\n",
       "  <tbody>\n",
       "    <tr>\n",
       "      <th>0</th>\n",
       "      <td>1</td>\n",
       "      <td>0</td>\n",
       "      <td>0</td>\n",
       "    </tr>\n",
       "    <tr>\n",
       "      <th>1</th>\n",
       "      <td>0</td>\n",
       "      <td>1</td>\n",
       "      <td>0</td>\n",
       "    </tr>\n",
       "    <tr>\n",
       "      <th>2</th>\n",
       "      <td>0</td>\n",
       "      <td>0</td>\n",
       "      <td>0</td>\n",
       "    </tr>\n",
       "    <tr>\n",
       "      <th>3</th>\n",
       "      <td>0</td>\n",
       "      <td>0</td>\n",
       "      <td>0</td>\n",
       "    </tr>\n",
       "    <tr>\n",
       "      <th>4</th>\n",
       "      <td>1</td>\n",
       "      <td>0</td>\n",
       "      <td>0</td>\n",
       "    </tr>\n",
       "  </tbody>\n",
       "</table>\n",
       "</div>"
      ],
      "text/plain": [
       "   Sex_male  Embarked_C  Embarked_Q\n",
       "0         1           0           0\n",
       "1         0           1           0\n",
       "2         0           0           0\n",
       "3         0           0           0\n",
       "4         1           0           0"
      ]
     },
     "execution_count": 16,
     "metadata": {},
     "output_type": "execute_result"
    }
   ],
   "source": [
    "dummy.head()"
   ]
  },
  {
   "cell_type": "code",
   "execution_count": 17,
   "metadata": {},
   "outputs": [],
   "source": [
    "df= pd.concat([df,dummy],axis = 1)"
   ]
  },
  {
   "cell_type": "code",
   "execution_count": 18,
   "metadata": {},
   "outputs": [
    {
     "data": {
      "text/html": [
       "<div>\n",
       "<style scoped>\n",
       "    .dataframe tbody tr th:only-of-type {\n",
       "        vertical-align: middle;\n",
       "    }\n",
       "\n",
       "    .dataframe tbody tr th {\n",
       "        vertical-align: top;\n",
       "    }\n",
       "\n",
       "    .dataframe thead th {\n",
       "        text-align: right;\n",
       "    }\n",
       "</style>\n",
       "<table border=\"1\" class=\"dataframe\">\n",
       "  <thead>\n",
       "    <tr style=\"text-align: right;\">\n",
       "      <th></th>\n",
       "      <th>Survived</th>\n",
       "      <th>Pclass</th>\n",
       "      <th>Sex</th>\n",
       "      <th>Age</th>\n",
       "      <th>SibSp</th>\n",
       "      <th>Parch</th>\n",
       "      <th>Fare</th>\n",
       "      <th>Embarked</th>\n",
       "      <th>Sex_male</th>\n",
       "      <th>Embarked_C</th>\n",
       "      <th>Embarked_Q</th>\n",
       "    </tr>\n",
       "  </thead>\n",
       "  <tbody>\n",
       "    <tr>\n",
       "      <th>0</th>\n",
       "      <td>0</td>\n",
       "      <td>3</td>\n",
       "      <td>male</td>\n",
       "      <td>22.0</td>\n",
       "      <td>1</td>\n",
       "      <td>0</td>\n",
       "      <td>7.2500</td>\n",
       "      <td>S</td>\n",
       "      <td>1</td>\n",
       "      <td>0</td>\n",
       "      <td>0</td>\n",
       "    </tr>\n",
       "    <tr>\n",
       "      <th>1</th>\n",
       "      <td>1</td>\n",
       "      <td>1</td>\n",
       "      <td>female</td>\n",
       "      <td>38.0</td>\n",
       "      <td>1</td>\n",
       "      <td>0</td>\n",
       "      <td>71.2833</td>\n",
       "      <td>C</td>\n",
       "      <td>0</td>\n",
       "      <td>1</td>\n",
       "      <td>0</td>\n",
       "    </tr>\n",
       "    <tr>\n",
       "      <th>2</th>\n",
       "      <td>1</td>\n",
       "      <td>3</td>\n",
       "      <td>female</td>\n",
       "      <td>26.0</td>\n",
       "      <td>0</td>\n",
       "      <td>0</td>\n",
       "      <td>7.9250</td>\n",
       "      <td>S</td>\n",
       "      <td>0</td>\n",
       "      <td>0</td>\n",
       "      <td>0</td>\n",
       "    </tr>\n",
       "    <tr>\n",
       "      <th>3</th>\n",
       "      <td>1</td>\n",
       "      <td>1</td>\n",
       "      <td>female</td>\n",
       "      <td>35.0</td>\n",
       "      <td>1</td>\n",
       "      <td>0</td>\n",
       "      <td>53.1000</td>\n",
       "      <td>S</td>\n",
       "      <td>0</td>\n",
       "      <td>0</td>\n",
       "      <td>0</td>\n",
       "    </tr>\n",
       "    <tr>\n",
       "      <th>4</th>\n",
       "      <td>0</td>\n",
       "      <td>3</td>\n",
       "      <td>male</td>\n",
       "      <td>35.0</td>\n",
       "      <td>0</td>\n",
       "      <td>0</td>\n",
       "      <td>8.0500</td>\n",
       "      <td>S</td>\n",
       "      <td>1</td>\n",
       "      <td>0</td>\n",
       "      <td>0</td>\n",
       "    </tr>\n",
       "  </tbody>\n",
       "</table>\n",
       "</div>"
      ],
      "text/plain": [
       "   Survived  Pclass     Sex   Age  SibSp  Parch     Fare Embarked  Sex_male  \\\n",
       "0         0       3    male  22.0      1      0   7.2500        S         1   \n",
       "1         1       1  female  38.0      1      0  71.2833        C         0   \n",
       "2         1       3  female  26.0      0      0   7.9250        S         0   \n",
       "3         1       1  female  35.0      1      0  53.1000        S         0   \n",
       "4         0       3    male  35.0      0      0   8.0500        S         1   \n",
       "\n",
       "   Embarked_C  Embarked_Q  \n",
       "0           0           0  \n",
       "1           1           0  \n",
       "2           0           0  \n",
       "3           0           0  \n",
       "4           0           0  "
      ]
     },
     "execution_count": 18,
     "metadata": {},
     "output_type": "execute_result"
    }
   ],
   "source": [
    "df.head()"
   ]
  },
  {
   "cell_type": "code",
   "execution_count": 19,
   "metadata": {},
   "outputs": [],
   "source": [
    "df.drop(['Sex', 'Embarked'], axis = 1, inplace = True)"
   ]
  },
  {
   "cell_type": "code",
   "execution_count": 20,
   "metadata": {},
   "outputs": [
    {
     "data": {
      "text/html": [
       "<div>\n",
       "<style scoped>\n",
       "    .dataframe tbody tr th:only-of-type {\n",
       "        vertical-align: middle;\n",
       "    }\n",
       "\n",
       "    .dataframe tbody tr th {\n",
       "        vertical-align: top;\n",
       "    }\n",
       "\n",
       "    .dataframe thead th {\n",
       "        text-align: right;\n",
       "    }\n",
       "</style>\n",
       "<table border=\"1\" class=\"dataframe\">\n",
       "  <thead>\n",
       "    <tr style=\"text-align: right;\">\n",
       "      <th></th>\n",
       "      <th>Survived</th>\n",
       "      <th>Pclass</th>\n",
       "      <th>Age</th>\n",
       "      <th>SibSp</th>\n",
       "      <th>Parch</th>\n",
       "      <th>Fare</th>\n",
       "      <th>Sex_male</th>\n",
       "      <th>Embarked_C</th>\n",
       "      <th>Embarked_Q</th>\n",
       "    </tr>\n",
       "  </thead>\n",
       "  <tbody>\n",
       "    <tr>\n",
       "      <th>0</th>\n",
       "      <td>0</td>\n",
       "      <td>3</td>\n",
       "      <td>22.0</td>\n",
       "      <td>1</td>\n",
       "      <td>0</td>\n",
       "      <td>7.2500</td>\n",
       "      <td>1</td>\n",
       "      <td>0</td>\n",
       "      <td>0</td>\n",
       "    </tr>\n",
       "    <tr>\n",
       "      <th>1</th>\n",
       "      <td>1</td>\n",
       "      <td>1</td>\n",
       "      <td>38.0</td>\n",
       "      <td>1</td>\n",
       "      <td>0</td>\n",
       "      <td>71.2833</td>\n",
       "      <td>0</td>\n",
       "      <td>1</td>\n",
       "      <td>0</td>\n",
       "    </tr>\n",
       "    <tr>\n",
       "      <th>2</th>\n",
       "      <td>1</td>\n",
       "      <td>3</td>\n",
       "      <td>26.0</td>\n",
       "      <td>0</td>\n",
       "      <td>0</td>\n",
       "      <td>7.9250</td>\n",
       "      <td>0</td>\n",
       "      <td>0</td>\n",
       "      <td>0</td>\n",
       "    </tr>\n",
       "    <tr>\n",
       "      <th>3</th>\n",
       "      <td>1</td>\n",
       "      <td>1</td>\n",
       "      <td>35.0</td>\n",
       "      <td>1</td>\n",
       "      <td>0</td>\n",
       "      <td>53.1000</td>\n",
       "      <td>0</td>\n",
       "      <td>0</td>\n",
       "      <td>0</td>\n",
       "    </tr>\n",
       "    <tr>\n",
       "      <th>4</th>\n",
       "      <td>0</td>\n",
       "      <td>3</td>\n",
       "      <td>35.0</td>\n",
       "      <td>0</td>\n",
       "      <td>0</td>\n",
       "      <td>8.0500</td>\n",
       "      <td>1</td>\n",
       "      <td>0</td>\n",
       "      <td>0</td>\n",
       "    </tr>\n",
       "  </tbody>\n",
       "</table>\n",
       "</div>"
      ],
      "text/plain": [
       "   Survived  Pclass   Age  SibSp  Parch     Fare  Sex_male  Embarked_C  \\\n",
       "0         0       3  22.0      1      0   7.2500         1           0   \n",
       "1         1       1  38.0      1      0  71.2833         0           1   \n",
       "2         1       3  26.0      0      0   7.9250         0           0   \n",
       "3         1       1  35.0      1      0  53.1000         0           0   \n",
       "4         0       3  35.0      0      0   8.0500         1           0   \n",
       "\n",
       "   Embarked_Q  \n",
       "0           0  \n",
       "1           0  \n",
       "2           0  \n",
       "3           0  \n",
       "4           0  "
      ]
     },
     "execution_count": 20,
     "metadata": {},
     "output_type": "execute_result"
    }
   ],
   "source": [
    "df.head()"
   ]
  },
  {
   "cell_type": "code",
   "execution_count": 21,
   "metadata": {},
   "outputs": [],
   "source": [
    "X= df.drop(['Survived'], axis = 1)\n",
    "Y = df['Survived']"
   ]
  },
  {
   "cell_type": "code",
   "execution_count": 22,
   "metadata": {},
   "outputs": [],
   "source": [
    "from sklearn.model_selection import train_test_split\n",
    "\n",
    "train_X, test_X, train_Y, test_Y = train_test_split(X,Y,test_size =0.20)"
   ]
  },
  {
   "cell_type": "code",
   "execution_count": 23,
   "metadata": {},
   "outputs": [
    {
     "name": "stdout",
     "output_type": "stream",
     "text": [
      "(712, 8)\n",
      "(712,)\n",
      "(179, 8)\n",
      "(179,)\n"
     ]
    }
   ],
   "source": [
    "print(train_X.shape)\n",
    "print(train_Y.shape)\n",
    "print(test_X.shape)\n",
    "print(test_Y.shape)"
   ]
  },
  {
   "cell_type": "code",
   "execution_count": 24,
   "metadata": {},
   "outputs": [],
   "source": [
    "from sklearn.linear_model import LogisticRegression\n",
    "logit_model = LogisticRegression()"
   ]
  },
  {
   "cell_type": "code",
   "execution_count": 25,
   "metadata": {},
   "outputs": [
    {
     "name": "stderr",
     "output_type": "stream",
     "text": [
      "C:\\Users\\vatsy\\Anaconda3\\lib\\site-packages\\sklearn\\linear_model\\logistic.py:432: FutureWarning: Default solver will be changed to 'lbfgs' in 0.22. Specify a solver to silence this warning.\n",
      "  FutureWarning)\n"
     ]
    },
    {
     "data": {
      "text/plain": [
       "LogisticRegression(C=1.0, class_weight=None, dual=False, fit_intercept=True,\n",
       "                   intercept_scaling=1, l1_ratio=None, max_iter=100,\n",
       "                   multi_class='warn', n_jobs=None, penalty='l2',\n",
       "                   random_state=None, solver='warn', tol=0.0001, verbose=0,\n",
       "                   warm_start=False)"
      ]
     },
     "execution_count": 25,
     "metadata": {},
     "output_type": "execute_result"
    }
   ],
   "source": [
    "logit_model.fit(train_X,train_Y)"
   ]
  },
  {
   "cell_type": "code",
   "execution_count": 34,
   "metadata": {},
   "outputs": [],
   "source": [
    "predictions = logit_model.predict(test_X)"
   ]
  },
  {
   "cell_type": "code",
   "execution_count": null,
   "metadata": {},
   "outputs": [],
   "source": []
  },
  {
   "cell_type": "code",
   "execution_count": 35,
   "metadata": {},
   "outputs": [
    {
     "data": {
      "text/plain": [
       "0.7821229050279329"
      ]
     },
     "execution_count": 35,
     "metadata": {},
     "output_type": "execute_result"
    }
   ],
   "source": [
    "from sklearn.metrics import accuracy_score\n",
    "accuracy_score(predictions,test_Y)"
   ]
  },
  {
   "cell_type": "code",
   "execution_count": 36,
   "metadata": {},
   "outputs": [
    {
     "data": {
      "text/plain": [
       "array([[88, 18],\n",
       "       [21, 52]], dtype=int64)"
      ]
     },
     "execution_count": 36,
     "metadata": {},
     "output_type": "execute_result"
    }
   ],
   "source": [
    "from sklearn.metrics import confusion_matrix\n",
    "confusion_matrix(test_Y,predictions)  # Order of input is important"
   ]
  },
  {
   "cell_type": "code",
   "execution_count": 37,
   "metadata": {},
   "outputs": [
    {
     "name": "stdout",
     "output_type": "stream",
     "text": [
      "[[0.85137351 0.14862649]\n",
      " [0.8646668  0.1353332 ]\n",
      " [0.89589436 0.10410564]\n",
      " [0.57956437 0.42043563]\n",
      " [0.8729339  0.1270661 ]\n",
      " [0.33549956 0.66450044]\n",
      " [0.91557858 0.08442142]\n",
      " [0.08989549 0.91010451]\n",
      " [0.29794481 0.70205519]\n",
      " [0.8763885  0.1236115 ]\n",
      " [0.90338946 0.09661054]\n",
      " [0.83039308 0.16960692]\n",
      " [0.39094975 0.60905025]\n",
      " [0.82027392 0.17972608]\n",
      " [0.58983556 0.41016444]\n",
      " [0.69720781 0.30279219]\n",
      " [0.86873816 0.13126184]\n",
      " [0.87078403 0.12921597]\n",
      " [0.36747872 0.63252128]\n",
      " [0.49813914 0.50186086]\n",
      " [0.88604269 0.11395731]\n",
      " [0.13893196 0.86106804]\n",
      " [0.26313309 0.73686691]\n",
      " [0.09124588 0.90875412]\n",
      " [0.38467069 0.61532931]\n",
      " [0.43087374 0.56912626]\n",
      " [0.835381   0.164619  ]\n",
      " [0.76440334 0.23559666]\n",
      " [0.56535799 0.43464201]\n",
      " [0.71437654 0.28562346]\n",
      " [0.26016124 0.73983876]\n",
      " [0.93782543 0.06217457]\n",
      " [0.93321444 0.06678556]\n",
      " [0.57349342 0.42650658]\n",
      " [0.04390331 0.95609669]\n",
      " [0.25734491 0.74265509]\n",
      " [0.98398704 0.01601296]\n",
      " [0.32618661 0.67381339]\n",
      " [0.55730061 0.44269939]\n",
      " [0.23581725 0.76418275]\n",
      " [0.32097291 0.67902709]\n",
      " [0.94122044 0.05877956]\n",
      " [0.63572873 0.36427127]\n",
      " [0.89365091 0.10634909]\n",
      " [0.12980748 0.87019252]\n",
      " [0.89820993 0.10179007]\n",
      " [0.83282849 0.16717151]\n",
      " [0.02914005 0.97085995]\n",
      " [0.79605343 0.20394657]\n",
      " [0.90696708 0.09303292]\n",
      " [0.33582764 0.66417236]\n",
      " [0.89602784 0.10397216]\n",
      " [0.89912359 0.10087641]\n",
      " [0.89653373 0.10346627]\n",
      " [0.39682917 0.60317083]\n",
      " [0.89112746 0.10887254]\n",
      " [0.84149376 0.15850624]\n",
      " [0.84164783 0.15835217]\n",
      " [0.29454953 0.70545047]\n",
      " [0.05196937 0.94803063]\n",
      " [0.93099371 0.06900629]\n",
      " [0.59053262 0.40946738]\n",
      " [0.3374315  0.6625685 ]\n",
      " [0.73773924 0.26226076]\n",
      " [0.90425988 0.09574012]\n",
      " [0.87071814 0.12928186]\n",
      " [0.78488114 0.21511886]\n",
      " [0.91580332 0.08419668]\n",
      " [0.94891587 0.05108413]\n",
      " [0.59003923 0.40996077]\n",
      " [0.8649802  0.1350198 ]\n",
      " [0.03755272 0.96244728]\n",
      " [0.91590306 0.08409694]\n",
      " [0.95131464 0.04868536]\n",
      " [0.24212559 0.75787441]\n",
      " [0.38507935 0.61492065]\n",
      " [0.82322718 0.17677282]\n",
      " [0.89659535 0.10340465]\n",
      " [0.20135737 0.79864263]\n",
      " [0.07744829 0.92255171]\n",
      " [0.81450459 0.18549541]\n",
      " [0.87394695 0.12605305]\n",
      " [0.80261351 0.19738649]\n",
      " [0.01212042 0.98787958]\n",
      " [0.89998747 0.10001253]\n",
      " [0.85137553 0.14862447]\n",
      " [0.05266372 0.94733628]\n",
      " [0.57015811 0.42984189]\n",
      " [0.43364577 0.56635423]\n",
      " [0.43169451 0.56830549]\n",
      " [0.88936952 0.11063048]\n",
      " [0.39142448 0.60857552]\n",
      " [0.32845791 0.67154209]\n",
      " [0.38885234 0.61114766]\n",
      " [0.49016655 0.50983345]\n",
      " [0.78615841 0.21384159]\n",
      " [0.32387992 0.67612008]\n",
      " [0.56776122 0.43223878]\n",
      " [0.85132546 0.14867454]\n",
      " [0.86534845 0.13465155]\n",
      " [0.69676342 0.30323658]\n",
      " [0.44117819 0.55882181]\n",
      " [0.59416567 0.40583433]\n",
      " [0.15661406 0.84338594]\n",
      " [0.81192926 0.18807074]\n",
      " [0.29510728 0.70489272]\n",
      " [0.91065968 0.08934032]\n",
      " [0.88446516 0.11553484]\n",
      " [0.77723598 0.22276402]\n",
      " [0.5862084  0.4137916 ]\n",
      " [0.85010814 0.14989186]\n",
      " [0.89815639 0.10184361]\n",
      " [0.90897195 0.09102805]\n",
      " [0.51466794 0.48533206]\n",
      " [0.27833643 0.72166357]\n",
      " [0.87633708 0.12366292]\n",
      " [0.89422839 0.10577161]\n",
      " [0.96422881 0.03577119]\n",
      " [0.43548138 0.56451862]\n",
      " [0.33685416 0.66314584]\n",
      " [0.36541086 0.63458914]\n",
      " [0.05233763 0.94766237]\n",
      " [0.74587086 0.25412914]\n",
      " [0.10706761 0.89293239]\n",
      " [0.63132123 0.36867877]\n",
      " [0.92840465 0.07159535]\n",
      " [0.04761879 0.95238121]\n",
      " [0.82181502 0.17818498]\n",
      " [0.04991166 0.95008834]\n",
      " [0.83745618 0.16254382]\n",
      " [0.7775645  0.2224355 ]\n",
      " [0.67134654 0.32865346]\n",
      " [0.22507166 0.77492834]\n",
      " [0.08218208 0.91781792]\n",
      " [0.75793954 0.24206046]\n",
      " [0.10041686 0.89958314]\n",
      " [0.78350638 0.21649362]\n",
      " [0.89820993 0.10179007]\n",
      " [0.88430988 0.11569012]\n",
      " [0.93983562 0.06016438]\n",
      " [0.67190745 0.32809255]\n",
      " [0.39097235 0.60902765]\n",
      " [0.46124624 0.53875376]\n",
      " [0.83575343 0.16424657]\n",
      " [0.9104615  0.0895385 ]\n",
      " [0.90120874 0.09879126]\n",
      " [0.28640836 0.71359164]\n",
      " [0.88460247 0.11539753]\n",
      " [0.66904675 0.33095325]\n",
      " [0.23402962 0.76597038]\n",
      " [0.7805014  0.2194986 ]\n",
      " [0.45393257 0.54606743]\n",
      " [0.2544604  0.7455396 ]\n",
      " [0.85136352 0.14863648]\n",
      " [0.18422654 0.81577346]\n",
      " [0.63155254 0.36844746]\n",
      " [0.33571823 0.66428177]\n",
      " [0.30228316 0.69771684]\n",
      " [0.33742802 0.66257198]\n",
      " [0.85137154 0.14862846]\n",
      " [0.23605681 0.76394319]\n",
      " [0.8942643  0.1057357 ]\n",
      " [0.35296144 0.64703856]\n",
      " [0.89815639 0.10184361]\n",
      " [0.07852702 0.92147298]\n",
      " [0.870889   0.129111  ]\n",
      " [0.85136352 0.14863648]\n",
      " [0.65687423 0.34312577]\n",
      " [0.33583822 0.66416178]\n",
      " [0.10096745 0.89903255]\n",
      " [0.23581725 0.76418275]\n",
      " [0.89843389 0.10156611]\n",
      " [0.89422839 0.10577161]\n",
      " [0.88170704 0.11829296]\n",
      " [0.46340182 0.53659818]\n",
      " [0.19197655 0.80802345]\n",
      " [0.94411768 0.05588232]\n",
      " [0.87361019 0.12638981]\n",
      " [0.88686279 0.11313721]]\n"
     ]
    }
   ],
   "source": [
    "# Creating ROC curve so we need to create predictions with probability\n",
    "predictions_prob = logit_model.predict_proba(test_X)\n",
    "print(predictions_prob)  # Here we have 2 columns 1 of prob and the other of 1-prob. We will choose the first column only"
   ]
  },
  {
   "cell_type": "code",
   "execution_count": 38,
   "metadata": {},
   "outputs": [
    {
     "name": "stdout",
     "output_type": "stream",
     "text": [
      "[0.14862649 0.1353332  0.10410564 0.42043563 0.1270661  0.66450044\n",
      " 0.08442142 0.91010451 0.70205519 0.1236115  0.09661054 0.16960692\n",
      " 0.60905025 0.17972608 0.41016444 0.30279219 0.13126184 0.12921597\n",
      " 0.63252128 0.50186086 0.11395731 0.86106804 0.73686691 0.90875412\n",
      " 0.61532931 0.56912626 0.164619   0.23559666 0.43464201 0.28562346\n",
      " 0.73983876 0.06217457 0.06678556 0.42650658 0.95609669 0.74265509\n",
      " 0.01601296 0.67381339 0.44269939 0.76418275 0.67902709 0.05877956\n",
      " 0.36427127 0.10634909 0.87019252 0.10179007 0.16717151 0.97085995\n",
      " 0.20394657 0.09303292 0.66417236 0.10397216 0.10087641 0.10346627\n",
      " 0.60317083 0.10887254 0.15850624 0.15835217 0.70545047 0.94803063\n",
      " 0.06900629 0.40946738 0.6625685  0.26226076 0.09574012 0.12928186\n",
      " 0.21511886 0.08419668 0.05108413 0.40996077 0.1350198  0.96244728\n",
      " 0.08409694 0.04868536 0.75787441 0.61492065 0.17677282 0.10340465\n",
      " 0.79864263 0.92255171 0.18549541 0.12605305 0.19738649 0.98787958\n",
      " 0.10001253 0.14862447 0.94733628 0.42984189 0.56635423 0.56830549\n",
      " 0.11063048 0.60857552 0.67154209 0.61114766 0.50983345 0.21384159\n",
      " 0.67612008 0.43223878 0.14867454 0.13465155 0.30323658 0.55882181\n",
      " 0.40583433 0.84338594 0.18807074 0.70489272 0.08934032 0.11553484\n",
      " 0.22276402 0.4137916  0.14989186 0.10184361 0.09102805 0.48533206\n",
      " 0.72166357 0.12366292 0.10577161 0.03577119 0.56451862 0.66314584\n",
      " 0.63458914 0.94766237 0.25412914 0.89293239 0.36867877 0.07159535\n",
      " 0.95238121 0.17818498 0.95008834 0.16254382 0.2224355  0.32865346\n",
      " 0.77492834 0.91781792 0.24206046 0.89958314 0.21649362 0.10179007\n",
      " 0.11569012 0.06016438 0.32809255 0.60902765 0.53875376 0.16424657\n",
      " 0.0895385  0.09879126 0.71359164 0.11539753 0.33095325 0.76597038\n",
      " 0.2194986  0.54606743 0.7455396  0.14863648 0.81577346 0.36844746\n",
      " 0.66428177 0.69771684 0.66257198 0.14862846 0.76394319 0.1057357\n",
      " 0.64703856 0.10184361 0.92147298 0.129111   0.14863648 0.34312577\n",
      " 0.66416178 0.89903255 0.76418275 0.10156611 0.10577161 0.11829296\n",
      " 0.53659818 0.80802345 0.05588232 0.12638981 0.11313721]\n"
     ]
    }
   ],
   "source": [
    "predictions_prob = logit_model.predict_proba(test_X)[:,1]\n",
    "print(predictions_prob)  #Now only the first row"
   ]
  },
  {
   "cell_type": "code",
   "execution_count": 39,
   "metadata": {},
   "outputs": [
    {
     "data": {
      "text/plain": [
       "(array([39., 38., 13.,  7., 13.,  9., 21., 16.,  6., 17.]),\n",
       " array([0.01601296, 0.11319962, 0.21038628, 0.30757294, 0.40475961,\n",
       "        0.50194627, 0.59913293, 0.69631959, 0.79350626, 0.89069292,\n",
       "        0.98787958]),\n",
       " <a list of 10 Patch objects>)"
      ]
     },
     "execution_count": 39,
     "metadata": {},
     "output_type": "execute_result"
    },
    {
     "data": {
      "image/png": "[encoded data removed]",
      "text/plain": [
       "<Figure size 432x288 with 1 Axes>"
      ]
     },
     "metadata": {
      "needs_background": "light"
     },
     "output_type": "display_data"
    }
   ],
   "source": [
    "import matplotlib.pyplot as plt\n",
    "plt.hist(predictions_prob, bins =10)"
   ]
  },
  {
   "cell_type": "markdown",
   "metadata": {},
   "source": [
    "ROC Curve"
   ]
  },
  {
   "cell_type": "code",
   "execution_count": 42,
   "metadata": {},
   "outputs": [
    {
     "data": {
      "text/plain": [
       "[<matplotlib.lines.Line2D at 0x1c7f8d1ae48>]"
      ]
     },
     "execution_count": 42,
     "metadata": {},
     "output_type": "execute_result"
    },
    {
     "data": {
      "image/png": "[encoded data removed]",
      "text/plain": [
       "<Figure size 432x288 with 1 Axes>"
      ]
     },
     "metadata": {
      "needs_background": "light"
     },
     "output_type": "display_data"
    }
   ],
   "source": [
    "from sklearn.metrics import roc_curve\n",
    "fpr, tpr, threasholds = roc_curve(test_Y,predictions_prob)\n",
    "plt.plot(fpr,tpr)"
   ]
  },
  {
   "cell_type": "code",
   "execution_count": null,
   "metadata": {},
   "outputs": [],
   "source": []
  },
  {
   "cell_type": "code",
   "execution_count": null,
   "metadata": {},
   "outputs": [],
   "source": []
  },
  {
   "cell_type": "code",
   "execution_count": null,
   "metadata": {},
   "outputs": [],
   "source": []
  },
  {
   "cell_type": "code",
   "execution_count": null,
   "metadata": {},
   "outputs": [],
   "source": []
  }
 ],
 "metadata": {
  "kernelspec": {
   "display_name": "Python 3",
   "language": "python",
   "name": "python3"
  },
  "language_info": {
   "codemirror_mode": {
    "name": "ipython",
    "version": 3
   },
   "file_extension": ".py",
   "mimetype": "text/x-python",
   "name": "python",
   "nbconvert_exporter": "python",
   "pygments_lexer": "ipython3",
   "version": "3.7.3"
  }
 },
 "nbformat": 4,
 "nbformat_minor": 2
}
